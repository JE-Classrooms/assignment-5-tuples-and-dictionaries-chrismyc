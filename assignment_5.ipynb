{
 "cells": [
  {
   "cell_type": "markdown",
   "metadata": {},
   "source": [
    "# Assignment 5"
   ]
  },
  {
   "cell_type": "markdown",
   "metadata": {},
   "source": [
    "**Exercise 1:** write a Python program to create a new dictionary by extracting the mentioned keys from the below dictionary\n",
    "\n",
    "```python\n",
    "sample_dict = {\n",
    "    \"name\": \"Kelly\",\n",
    "    \"age\": 25,\n",
    "    \"salary\": 8000,\n",
    "    \"city\": \"New york\"}\n",
    "\n",
    "# Keys to extract\n",
    "keys = [\"name\", \"salary\"]\n",
    "```\n",
    "\n",
    "**Expected output:** ```{'name': 'Kelly', 'salary': 8000}```"
   ]
  },
  {
   "cell_type": "code",
   "execution_count": 4,
   "metadata": {},
   "outputs": [
    {
     "name": "stdout",
     "output_type": "stream",
     "text": [
      "{'name': 'Kelly', 'salary': 8000}\n"
     ]
    }
   ],
   "source": [
    "sample_dict = {\n",
    "    \"name\": \"Kelly\",\n",
    "    \"age\": 25,\n",
    "    \"salary\": 8000,\n",
    "    \"city\": \"New york\"}\n",
    "\n",
    "keys = [\"name\", \"salary\"]\n",
    "\n",
    "new_dict={}\n",
    "for key in sample_dict:\n",
    "    if key in keys:\n",
    "        new_dict[key]=sample_dict[key]\n",
    "print(new_dict)"
   ]
  },
  {
   "cell_type": "markdown",
   "metadata": {},
   "source": [
    "**Exercise 2:** consider the following dictionary:\n",
    "\n",
    "```d = {'1':1, '2':2, '3':3, 4:4, 5:5, 6:6, 'next key':7}```\n",
    "\n",
    "(a) using a loop change the type of the values associated with string keys to strings.\n",
    "\n",
    "**Expected output:** ```{'1': '1', '2': '2', '3': '3', 4: 4, 5: 5, 6: 6, 'next key': '7'}```\n",
    "\n",
    "(b) using a loop, change all the keys to match their respective values. \n",
    "\n",
    "**Expected output:** ```{1: 1, 2: 2, 3: 3, 4: 4, 5: 5, 6: 6, 7: 7}```"
   ]
  },
  {
   "cell_type": "code",
   "execution_count": 6,
   "metadata": {},
   "outputs": [
    {
     "name": "stdout",
     "output_type": "stream",
     "text": [
      "{'1': '1', '2': '2', '3': '3', 4: 4, 5: 5, 6: 6, 'next key': '7'}\n"
     ]
    }
   ],
   "source": [
    "d = {'1':1, '2':2, '3':3, 4:4, 5:5, 6:6, 'next key':7}\n",
    "for key in d:\n",
    "    if type(key)==str:\n",
    "        d[key]=str(d[key])\n",
    "print(d)"
   ]
  },
  {
   "cell_type": "code",
   "execution_count": 1,
   "metadata": {},
   "outputs": [
    {
     "name": "stdout",
     "output_type": "stream",
     "text": [
      "{1: 1, 2: 2, 3: 3, 4: 4, 5: 5, 6: 6, 7: 7}\n"
     ]
    }
   ],
   "source": [
    "d = {'1':1, '2':2, '3':3, 4:4, 5:5, 6:6, 'next key':7}\n",
    "new_d={}\n",
    "for key in d:\n",
    "    new_d[d[key]]=d[key]\n",
    "   \n",
    "  \n",
    "        \n",
    "print(new_d)"
   ]
  },
  {
   "cell_type": "markdown",
   "metadata": {},
   "source": [
    "**Exercise 3:** write a Python program that *uses a loop* to map the following two lists into a dictionary.\n",
    "\n",
    "keys = ['red', 'green', 'blue']\n",
    "values = ['#FF0000','#008000', '#0000FF']\n",
    "\n",
    "**Expected output:** {'red': '#FF0000', 'green': '#008000', 'blue': '#0000FF'}\n",
    "\n",
    "*Hint:* look at the dictionary method [update](https://www.w3schools.com/python/ref_dictionary_update.asp)."
   ]
  },
  {
   "cell_type": "code",
   "execution_count": 37,
   "metadata": {},
   "outputs": [
    {
     "name": "stdout",
     "output_type": "stream",
     "text": [
      "{'red': '#FF0000', 'green': '#008000', 'blue': '#0000FF'}\n"
     ]
    }
   ],
   "source": [
    "keys = ['red', 'green', 'blue'] \n",
    "values = ['#FF0000','#008000', '#0000FF']\n",
    "d={}\n",
    "\n",
    "for x in range(3):\n",
    "   \n",
    "    d.update({keys[x]:values[x]})\n",
    "    \n",
    "print(d)"
   ]
  },
  {
   "cell_type": "code",
   "execution_count": null,
   "metadata": {},
   "outputs": [],
   "source": []
  }
 ],
 "metadata": {
  "kernelspec": {
   "display_name": "conda_amazonei_mxnet_p36",
   "language": "python",
   "name": "conda_amazonei_mxnet_p36"
  },
  "language_info": {
   "codemirror_mode": {
    "name": "ipython",
    "version": 3
   },
   "file_extension": ".py",
   "mimetype": "text/x-python",
   "name": "python",
   "nbconvert_exporter": "python",
   "pygments_lexer": "ipython3",
   "version": "3.6.13"
  },
  "vscode": {
   "interpreter": {
    "hash": "9fbb33e86ca55080a202fed700efde3fb4ffe3f46131e5b52201b9ba06ce5f72"
   }
  }
 },
 "nbformat": 4,
 "nbformat_minor": 4
}
